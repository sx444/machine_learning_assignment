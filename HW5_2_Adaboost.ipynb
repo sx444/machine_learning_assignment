{
 "cells": [
  {
   "cell_type": "markdown",
   "metadata": {},
   "source": [
    "# AdaBoost (Use decision trees to implement the ensemble method)"
   ]
  },
  {
   "cell_type": "code",
   "execution_count": 1,
   "metadata": {
    "collapsed": true
   },
   "outputs": [],
   "source": [
    "import numpy as np\n",
    "import matplotlib.pyplot as plt\n",
    "from sklearn.tree import DecisionTreeClassifier\n",
    "import pandas as pd"
   ]
  },
  {
   "cell_type": "code",
   "execution_count": 2,
   "metadata": {
    "collapsed": false
   },
   "outputs": [],
   "source": [
    "train = pd.read_csv('hw5-boosting/data/banana_train.csv',header=None,names=['label','feature_1','feature_2'])\n",
    "test = pd.read_csv('hw5-boosting/data/banana_test.csv',header=None,names=['label','feature_1','feature_2'])"
   ]
  },
  {
   "cell_type": "code",
   "execution_count": 3,
   "metadata": {
    "collapsed": true
   },
   "outputs": [],
   "source": [
    "# training set\n",
    "x_train = train[['feature_1', 'feature_2']]\n",
    "y_train = train['label']\n",
    "# test set\n",
    "x_test = test[['feature_1', 'feature_2']]\n",
    "y_test = test['label']"
   ]
  },
  {
   "cell_type": "code",
   "execution_count": 4,
   "metadata": {
    "collapsed": true
   },
   "outputs": [],
   "source": [
    "class Adaboost():\n",
    "    def __init__(self, x_train, y_train):\n",
    "        self.x_train = x_train\n",
    "        self.y_train = y_train\n",
    "        \n",
    "    def train(self, n_rounds):\n",
    "        self.n_rounds = n_rounds\n",
    "        N = len(self.y_train)\n",
    "        # initiate the weight w\n",
    "        w = np.ones(N)/N\n",
    "        self.weak_classifiers = []\n",
    "        self.alphas = []\n",
    "        for i in range(self.n_rounds):\n",
    "            clf = DecisionTreeClassifier(max_depth=3)\n",
    "            clf.fit(self.x_train, self.y_train, sample_weight=w)\n",
    "            self.weak_classifiers.append(clf)\n",
    "            # get the error\n",
    "            pred = clf.predict(x_train)\n",
    "            misclassified = np.where(np.asarray(y_train) != pred)\n",
    "            error_signal = np.zeros(N)\n",
    "            error_signal[misclassified[0]] = 1\n",
    "            error = np.inner(w, error_signal)/sum(w)\n",
    "            # get alpha\n",
    "            alpha = np.log((1-error)/error)\n",
    "            self.alphas.append(alpha)\n",
    "            # update the weight\n",
    "            w[misclassified[0]] = w[misclassified[0]] * (1-error) / error\n",
    "            w = w/w.sum()\n",
    "            \n",
    "    def predict(self, x_test):\n",
    "        pred = np.zeros(len(x_test))\n",
    "        for i in range(len(self.weak_classifiers)):\n",
    "            pred += self.alphas[i] * self.weak_classifiers[i].predict(x_test)\n",
    "        self.pred = np.sign(pred)\n",
    "        return self.pred\n",
    "    \n",
    "    def score(self, y_test):\n",
    "        # get the accuracy rate\n",
    "        n_test = len(y_test)\n",
    "        errors = len(np.where(y_test.values != self.pred)[0])\n",
    "        return (n_test - errors)/float(n_test)\n"
   ]
  },
  {
   "cell_type": "code",
   "execution_count": 5,
   "metadata": {
    "collapsed": false
   },
   "outputs": [],
   "source": [
    "adb = Adaboost(x_train, y_train)\n",
    "test_errors = []\n",
    "train_errors = []\n",
    "\n",
    "for n_rounds in range(1,51):\n",
    "    adb.train(n_rounds)\n",
    "    adb.predict(x_train)\n",
    "    train_errors.append(1-adb.score(y_train))\n",
    "    adb.predict(x_test)\n",
    "    test_errors.append(1-adb.score(y_test))\n",
    "    "
   ]
  },
  {
   "cell_type": "code",
   "execution_count": 6,
   "metadata": {
    "collapsed": false
   },
   "outputs": [
    {
     "name": "stdout",
     "output_type": "stream",
     "text": [
      "[0.1874285714285714, 0.1874285714285714, 0.16200000000000003, 0.14714285714285713, 0.12542857142857144, 0.13542857142857145, 0.11399999999999999, 0.10828571428571432, 0.10742857142857143, 0.10542857142857143, 0.10628571428571432, 0.10542857142857143, 0.10628571428571432, 0.10542857142857143, 0.10542857142857143, 0.10685714285714287, 0.09828571428571431, 0.10085714285714287, 0.09457142857142853, 0.09371428571428575, 0.0882857142857143, 0.08599999999999997, 0.0882857142857143, 0.0862857142857143, 0.08885714285714286, 0.08199999999999996, 0.0862857142857143, 0.0814285714285714, 0.08285714285714285, 0.08285714285714285, 0.08285714285714285, 0.08285714285714285, 0.08285714285714285, 0.08285714285714285, 0.08285714285714285, 0.08285714285714285, 0.08285714285714285, 0.08285714285714285, 0.08285714285714285, 0.08285714285714285, 0.08285714285714285, 0.08285714285714285, 0.08285714285714285, 0.08285714285714285, 0.08285714285714285, 0.08285714285714285, 0.08285714285714285, 0.08514285714285719, 0.08285714285714285, 0.0842857142857143]\n"
     ]
    }
   ],
   "source": [
    "print train_errors"
   ]
  },
  {
   "cell_type": "code",
   "execution_count": 7,
   "metadata": {
    "collapsed": false
   },
   "outputs": [
    {
     "name": "stdout",
     "output_type": "stream",
     "text": [
      "[0.1955555555555556, 0.1955555555555556, 0.18611111111111112, 0.15111111111111108, 0.15333333333333332, 0.14055555555555554, 0.1444444444444445, 0.11944444444444446, 0.12722222222222224, 0.12777777777777777, 0.12555555555555553, 0.12777777777777777, 0.12555555555555553, 0.12777777777777777, 0.12777777777777777, 0.13055555555555554, 0.11888888888888893, 0.12222222222222223, 0.12444444444444447, 0.11888888888888893, 0.12222222222222223, 0.1233333333333333, 0.1216666666666667, 0.11722222222222223, 0.10944444444444446, 0.11611111111111116, 0.10777777777777775, 0.11111111111111116, 0.10944444444444446, 0.11166666666666669, 0.10944444444444446, 0.11166666666666669, 0.10944444444444446, 0.11166666666666669, 0.10944444444444446, 0.11166666666666669, 0.10944444444444446, 0.11166666666666669, 0.10944444444444446, 0.11166666666666669, 0.10944444444444446, 0.11166666666666669, 0.10944444444444446, 0.11166666666666669, 0.10944444444444446, 0.11166666666666669, 0.10944444444444446, 0.11333333333333329, 0.11722222222222223, 0.10833333333333328]\n"
     ]
    }
   ],
   "source": [
    "print test_errors"
   ]
  },
  {
   "cell_type": "code",
   "execution_count": 9,
   "metadata": {
    "collapsed": false
   },
   "outputs": [
    {
     "data": {
      "image/png": "[encoded data removed]",
      "text/plain": [
       "<matplotlib.figure.Figure at 0x11e855b50>"
      ]
     },
     "metadata": {},
     "output_type": "display_data"
    }
   ],
   "source": [
    "plt.plot(range(1,51), train_errors)\n",
    "plt.plot(range(1,51), test_errors)\n",
    "plt.legend(['Train Errors','Test Errors'])\n",
    "plt.xlabel('Number of Rounds')\n",
    "plt.ylabel('Error%')\n",
    "plt.title('Training and test performance of Adaboost in different number of rounds')\n",
    "plt.show()"
   ]
  }
 ],
 "metadata": {
  "kernelspec": {
   "display_name": "Python 2",
   "language": "python",
   "name": "python2"
  },
  "language_info": {
   "codemirror_mode": {
    "name": "ipython",
    "version": 2
   },
   "file_extension": ".py",
   "mimetype": "text/x-python",
   "name": "python",
   "nbconvert_exporter": "python",
   "pygments_lexer": "ipython2",
   "version": "2.7.13"
  }
 },
 "nbformat": 4,
 "nbformat_minor": 2
}
